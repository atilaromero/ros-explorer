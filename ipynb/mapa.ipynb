{
 "cells": [
  {
   "cell_type": "code",
   "execution_count": 1,
   "metadata": {},
   "outputs": [],
   "source": [
    "from PIL import Image\n",
    "import matplotlib.pyplot as plt\n",
    "from matplotlib.pyplot import imshow\n",
    "import numpy as np"
   ]
  },
  {
   "cell_type": "code",
   "execution_count": 3,
   "metadata": {},
   "outputs": [],
   "source": [
    "## para deixar as imagens maiores\n",
    "#plt.rcParams['figure.figsize'] = [10, 5]"
   ]
  },
  {
   "cell_type": "code",
   "execution_count": 4,
   "metadata": {},
   "outputs": [],
   "source": [
    "v = np.ones((30,50)) * 0.5"
   ]
  },
  {
   "cell_type": "code",
   "execution_count": 5,
   "metadata": {},
   "outputs": [],
   "source": [
    "v[0,:]=1\n",
    "v[-1,:]=1\n",
    "v[:,0]=1\n",
    "v[:,-1]=1"
   ]
  },
  {
   "cell_type": "code",
   "execution_count": 6,
   "metadata": {},
   "outputs": [],
   "source": [
    "v[10:15,20:25] = 1"
   ]
  },
  {
   "cell_type": "code",
   "execution_count": 7,
   "metadata": {},
   "outputs": [],
   "source": [
    "v[20:25,40:45] = 0"
   ]
  },
  {
   "cell_type": "code",
   "execution_count": 8,
   "metadata": {},
   "outputs": [
    {
     "data": {
      "text/plain": [
       "<matplotlib.image.AxesImage at 0x7f6ee1cecb70>"
      ]
     },
     "execution_count": 8,
     "metadata": {},
     "output_type": "execute_result"
    },
    {
     "data": {
      "image/png": "[encoded data removed]",
      "text/plain": [
       "<Figure size 432x288 with 1 Axes>"
      ]
     },
     "metadata": {},
     "output_type": "display_data"
    }
   ],
   "source": [
    "img = Image.fromarray(np.uint8((1-v) * 255) , 'L')\n",
    "imshow(img)"
   ]
  },
  {
   "cell_type": "code",
   "execution_count": 20,
   "metadata": {
    "scrolled": false
   },
   "outputs": [
    {
     "name": "stdout",
     "output_type": "stream",
     "text": [
      "386\n"
     ]
    }
   ],
   "source": [
    "h,w = v.shape\n",
    "oldv = v.copy()\n",
    "newv = v.copy()\n",
    "for t in range(1000):\n",
    "    updated=False\n",
    "    for x in range(h):\n",
    "        for y in range(w):\n",
    "            if v[x,y] not in (0.,1.):\n",
    "                if oldv[x,y] <= min(oldv[x-1,y],oldv[x+1,y],oldv[x,y-1],oldv[x,y+1]):\n",
    "                    updated = True\n",
    "                newv[x,y] = (oldv[x-1,y]+oldv[x+1,y]+oldv[x,y-1]+oldv[x,y+1])/4\n",
    "    oldv=newv.copy()\n",
    "    if not updated:\n",
    "        break\n",
    "print(t)"
   ]
  },
  {
   "cell_type": "code",
   "execution_count": 21,
   "metadata": {},
   "outputs": [
    {
     "data": {
      "text/plain": [
       "<matplotlib.image.AxesImage at 0x7f6ee1b28a90>"
      ]
     },
     "execution_count": 21,
     "metadata": {},
     "output_type": "execute_result"
    },
    {
     "data": {
      "image/png": "[encoded data removed]",
      "text/plain": [
       "<Figure size 432x288 with 1 Axes>"
      ]
     },
     "metadata": {},
     "output_type": "display_data"
    }
   ],
   "source": [
    "img = Image.fromarray(np.uint8((1-oldv) * 255) , 'L')\n",
    "imshow(img)"
   ]
  },
  {
   "cell_type": "code",
   "execution_count": 22,
   "metadata": {},
   "outputs": [
    {
     "data": {
      "text/plain": [
       "<matplotlib.image.AxesImage at 0x7f6ee1b025c0>"
      ]
     },
     "execution_count": 22,
     "metadata": {},
     "output_type": "execute_result"
    },
    {
     "data": {
      "image/png": "[encoded data removed]",
      "text/plain": [
       "<Figure size 432x288 with 1 Axes>"
      ]
     },
     "metadata": {},
     "output_type": "display_data"
    }
   ],
   "source": [
    "path = np.zeros(v.shape)\n",
    "x,y = 1, 1\n",
    "while v[x,y] != 0:\n",
    "    path[x,y] = 1\n",
    "    x,y = min((x-1,y), (x+1,y), (x,y-1), (x,y+1), key=lambda a:newv[a[0],a[1]])\n",
    "img = Image.fromarray(np.uint8((1-(path*0.7 + v)) * 255) , 'L')\n",
    "imshow(img)    "
   ]
  },
  {
   "cell_type": "code",
   "execution_count": 23,
   "metadata": {},
   "outputs": [
    {
     "name": "stdout",
     "output_type": "stream",
     "text": [
      "11 10 39.0\n",
      "12 10 38.0\n",
      "13 10 37.0\n",
      "14 10 36.0\n",
      "15 10 35.0\n",
      "16 10 34.0\n",
      "17 10 33.0\n",
      "18 10 32.0\n",
      "19 10 31.0\n",
      "20 10 30.0\n",
      "20 11 29.0\n",
      "20 12 28.0\n",
      "20 13 27.0\n",
      "20 14 26.0\n",
      "20 15 25.0\n",
      "20 16 24.0\n",
      "20 17 23.0\n",
      "20 18 22.0\n",
      "20 19 21.0\n",
      "20 20 20.0\n",
      "20 21 19.0\n",
      "20 22 18.0\n",
      "20 23 17.0\n",
      "20 24 16.0\n",
      "20 25 15.0\n",
      "20 26 14.0\n",
      "20 27 13.0\n",
      "20 28 12.0\n",
      "20 29 11.0\n",
      "20 30 10.0\n",
      "20 31 9.0\n",
      "20 32 8.0\n",
      "20 33 7.0\n",
      "20 34 6.0\n",
      "20 35 5.0\n",
      "20 36 4.0\n",
      "20 37 3.0\n",
      "20 38 2.0\n",
      "20 39 1.0\n",
      "20 40 0.0\n"
     ]
    }
   ],
   "source": [
    "cost = np.ones((h,w))*1000\n",
    "cost\n",
    "\n",
    "pos = (10,10)\n",
    "goal = (20,40)\n",
    "for t in range(100):\n",
    "    x,y = pos\n",
    "    if cost[x,y] == 0:\n",
    "        break\n",
    "    for x,y in [(x-1,y), (x+1,y), (x,y-1), (x,y+1)]:\n",
    "        if v[x,y] in [0,1]:\n",
    "            cost[x,y] = v[x,y]\n",
    "        if cost[x,y] == 1000:\n",
    "            cost[x,y] = abs(goal[0]-x) + abs(goal[1]-y) # manhattan\n",
    "    x,y = pos\n",
    "    x,y = min((x-1,y), (x+1,y), (x,y-1), (x,y+1), key=lambda a:cost[a[0], a[1]])\n",
    "    pos = (x,y)\n",
    "    print(x,y , cost[x,y])"
   ]
  },
  {
   "cell_type": "code",
   "execution_count": 165,
   "metadata": {},
   "outputs": [],
   "source": [
    "def mkPathPlanA(worldmap, start, goal=(0,0), maxruns=200):\n",
    "    wx,wy = worldmap.shape\n",
    "    gx,gy = goal\n",
    "    gridx, gridy = np.mgrid[-gx:wx-gx,-gy:wy-gy]\n",
    "    grid = np.abs(gridx) + np.abs(gridy) + worldmap\n",
    "    last = start\n",
    "    choice = set()\n",
    "    while(maxruns>0 and grid[last[0], last[1]]>0):\n",
    "        maxruns -= 1\n",
    "        temp = grid.copy()\n",
    "        temp[last[0], last[1]] = -1\n",
    "        choice.add(tuple(last))\n",
    "        candidates = [\n",
    "                [last[0]-1,last[1]],\n",
    "                [last[0]  ,last[1]-1],\n",
    "                [last[0]+1,last[1]],\n",
    "                [last[0]  ,last[1]+1],\n",
    "                ]\n",
    "        candidates = [(x,y) for (x,y) in candidates if x>=0 and y>=0 and not np.isnan(grid[x,y])]\n",
    "        prox = min(candidates, key=lambda a:grid[a[0], a[1]])\n",
    "        if grid[prox[0], prox[1]]>grid[last[0],last[1]]: # at local minimum\n",
    "            grid[last[0],last[1]]=grid[prox[0], prox[1]] +1 # flat here\n",
    "            last = prox\n",
    "            if tuple(prox) in choice:\n",
    "                choice.remove(last)\n",
    "            continue\n",
    "        if grid[prox[0], prox[1]]==grid[last[0],last[1]]:\n",
    "            grid[prox[0], prox[1]]+=1\n",
    "            continue\n",
    "        if tuple(prox) in choice:\n",
    "            choice.remove(last)\n",
    "        last=prox\n",
    "    choice.add(last)\n",
    "    return grid, choice"
   ]
  },
  {
   "cell_type": "code",
   "execution_count": 175,
   "metadata": {},
   "outputs": [
    {
     "data": {
      "text/plain": [
       "array([[ 0.,  0., nan,  0.,  0.,  0.],\n",
       "       [ 0.,  0., nan,  0.,  0.,  0.],\n",
       "       [ 0.,  0., nan,  0.,  0.,  0.],\n",
       "       [ 0.,  0., nan,  0.,  0.,  0.],\n",
       "       [ 0.,  0.,  0.,  0.,  0.,  0.],\n",
       "       [ 0.,  0.,  0.,  0.,  0.,  0.]])"
      ]
     },
     "execution_count": 175,
     "metadata": {},
     "output_type": "execute_result"
    }
   ],
   "source": [
    "mymap=np.zeros((6,6))\n",
    "mymap[0:4,2]=np.nan\n",
    "mymap"
   ]
  },
  {
   "cell_type": "code",
   "execution_count": 176,
   "metadata": {
    "scrolled": false
   },
   "outputs": [
    {
     "data": {
      "text/plain": [
       "(array([[ 9.,  8., nan,  2.,  3.,  4.],\n",
       "        [ 8.,  7., nan,  1.,  2.,  3.],\n",
       "        [ 7.,  6., nan,  0.,  1.,  2.],\n",
       "        [ 6.,  5., nan,  1.,  2.,  3.],\n",
       "        [ 5.,  4.,  3.,  2.,  3.,  4.],\n",
       "        [ 6.,  5.,  4.,  3.,  4.,  5.]]),\n",
       " {(0, 0),\n",
       "  (0, 1),\n",
       "  (1, 1),\n",
       "  (2, 1),\n",
       "  (2, 3),\n",
       "  (3, 0),\n",
       "  (3, 1),\n",
       "  (3, 3),\n",
       "  (4, 0),\n",
       "  (4, 1),\n",
       "  (4, 2),\n",
       "  (4, 3)})"
      ]
     },
     "execution_count": 176,
     "metadata": {},
     "output_type": "execute_result"
    }
   ],
   "source": [
    "x = mkPathPlanA(mymap,(1,1),goal=(2,3))\n",
    "x"
   ]
  },
  {
   "cell_type": "code",
   "execution_count": 173,
   "metadata": {},
   "outputs": [
    {
     "data": {
      "text/plain": [
       "array([[      nan,       nan, 1.003e+03, 2.000e+00, 3.000e+00, 4.000e+00],\n",
       "       [8.000e+00,       nan, 1.002e+03, 1.000e+00, 2.000e+00, 3.000e+00],\n",
       "       [7.000e+00,       nan, 1.001e+03,       nan, 1.000e+00, 2.000e+00],\n",
       "       [      nan,       nan, 1.002e+03,       nan, 2.000e+00, 3.000e+00],\n",
       "       [      nan,       nan,       nan,       nan, 3.000e+00, 4.000e+00],\n",
       "       [6.000e+00, 5.000e+00, 4.000e+00, 3.000e+00, 4.000e+00, 5.000e+00]])"
      ]
     },
     "execution_count": 173,
     "metadata": {},
     "output_type": "execute_result"
    }
   ],
   "source": [
    "y = x[0].copy()\n",
    "for z in x[1]:\n",
    "   y[z[0],z[1]] = np.nan\n",
    "y"
   ]
  },
  {
   "cell_type": "code",
   "execution_count": 81,
   "metadata": {},
   "outputs": [],
   "source": [
    "y = x - np.nanmin(x)"
   ]
  },
  {
   "cell_type": "code",
   "execution_count": 82,
   "metadata": {},
   "outputs": [],
   "source": [
    "y = y/np.nanmax(y)"
   ]
  },
  {
   "cell_type": "code",
   "execution_count": 83,
   "metadata": {},
   "outputs": [
    {
     "data": {
      "text/plain": [
       "array([[1.   , 1.   ,   nan, 0.25 , 0.375, 0.5  ],\n",
       "       [1.   , 0.875,   nan, 0.125, 0.25 , 0.375],\n",
       "       [0.875, 0.75 ,   nan, 0.   , 0.125, 0.25 ],\n",
       "       [0.75 , 0.625,   nan, 0.125, 0.25 , 0.375],\n",
       "       [0.625, 0.5  , 0.375, 0.25 , 0.375, 0.5  ],\n",
       "       [0.75 , 0.625, 0.5  , 0.375, 0.5  , 0.625]])"
      ]
     },
     "execution_count": 83,
     "metadata": {},
     "output_type": "execute_result"
    }
   ],
   "source": [
    "y"
   ]
  },
  {
   "cell_type": "code",
   "execution_count": 84,
   "metadata": {},
   "outputs": [
    {
     "data": {
      "text/plain": [
       "(2, 3)"
      ]
     },
     "execution_count": 84,
     "metadata": {},
     "output_type": "execute_result"
    }
   ],
   "source": [
    "tuple([2,3])"
   ]
  },
  {
   "cell_type": "code",
   "execution_count": 85,
   "metadata": {},
   "outputs": [],
   "source": [
    "s = set()"
   ]
  },
  {
   "cell_type": "code",
   "execution_count": 86,
   "metadata": {},
   "outputs": [],
   "source": [
    "s.add((2,3))"
   ]
  },
  {
   "cell_type": "code",
   "execution_count": 87,
   "metadata": {},
   "outputs": [
    {
     "data": {
      "text/plain": [
       "True"
      ]
     },
     "execution_count": 87,
     "metadata": {},
     "output_type": "execute_result"
    }
   ],
   "source": [
    "(2,3) in s"
   ]
  },
  {
   "cell_type": "code",
   "execution_count": 88,
   "metadata": {},
   "outputs": [],
   "source": [
    "s.remove((2,3))"
   ]
  },
  {
   "cell_type": "code",
   "execution_count": 183,
   "metadata": {},
   "outputs": [],
   "source": []
  },
  {
   "cell_type": "code",
   "execution_count": 199,
   "metadata": {},
   "outputs": [
    {
     "data": {
      "text/plain": [
       "(2.0, 0.0)"
      ]
     },
     "execution_count": 199,
     "metadata": {},
     "output_type": "execute_result"
    }
   ],
   "source": [
    "x,y =np.gradient([[2,2],[4,4]])\n",
    "np.mean(x), np.mean(y)"
   ]
  },
  {
   "cell_type": "code",
   "execution_count": 200,
   "metadata": {},
   "outputs": [
    {
     "data": {
      "text/plain": [
       "90.0"
      ]
     },
     "execution_count": 200,
     "metadata": {},
     "output_type": "execute_result"
    }
   ],
   "source": [
    "np.arctan2(2,0)*180/np.pi"
   ]
  },
  {
   "cell_type": "code",
   "execution_count": 345,
   "metadata": {},
   "outputs": [
    {
     "data": {
      "text/plain": [
       "(1.0, 1.0)"
      ]
     },
     "execution_count": 345,
     "metadata": {},
     "output_type": "execute_result"
    }
   ],
   "source": [
    "x,y =np.gradient([[1,2],[2,3]])\n",
    "np.mean(x), np.mean(y)"
   ]
  },
  {
   "cell_type": "code",
   "execution_count": 346,
   "metadata": {},
   "outputs": [
    {
     "data": {
      "text/plain": [
       "135.0"
      ]
     },
     "execution_count": 346,
     "metadata": {},
     "output_type": "execute_result"
    }
   ],
   "source": [
    "np.arctan2(1,-1)*180/np.pi"
   ]
  },
  {
   "cell_type": "code",
   "execution_count": 204,
   "metadata": {},
   "outputs": [],
   "source": [
    "import collections\n",
    "import numpy as np"
   ]
  },
  {
   "cell_type": "code",
   "execution_count": 336,
   "metadata": {},
   "outputs": [],
   "source": [
    "def a_star(start, goal, h, neighbors):\n",
    "    todo = set()\n",
    "    todo.add(start)\n",
    "    done = set()\n",
    "    came = {}\n",
    "    g = collections.defaultdict(lambda:np.inf)\n",
    "    g[start] = 0\n",
    "    f = collections.defaultdict(lambda:np.inf)\n",
    "    f[start] = h(start, goal)\n",
    "    while(len(todo)>0):\n",
    "        cur = min(todo, key=lambda x: f[x])\n",
    "        if cur == goal:\n",
    "            p = [cur]\n",
    "            while cur in came:\n",
    "                cur = came[cur]\n",
    "                p.append(cur)\n",
    "            return p[::-1]\n",
    "        todo.remove(cur)\n",
    "        done.add(cur)\n",
    "        for neighbor in neighbors(cur):\n",
    "            if neighbor in done:\n",
    "                continue\n",
    "            if not neighbor in todo:\n",
    "                todo.add(neighbor)\n",
    "            tempg = g[cur] + h(cur, neighbor)\n",
    "            if tempg >= g[neighbor]:\n",
    "                continue\n",
    "            g[neighbor] = tempg\n",
    "            came[neighbor] = cur\n",
    "            f[neighbor] = g[neighbor] + h(neighbor,goal)"
   ]
  },
  {
   "cell_type": "code",
   "execution_count": 337,
   "metadata": {},
   "outputs": [
    {
     "data": {
      "text/plain": [
       "array([[ 0.,  0., nan,  0.,  0.,  0.],\n",
       "       [ 0.,  0., nan,  0.,  0.,  0.],\n",
       "       [ 0.,  0., nan,  0.,  0.,  0.],\n",
       "       [ 0.,  0., nan,  0.,  0.,  0.],\n",
       "       [ 0.,  0.,  0.,  0.,  0.,  0.],\n",
       "       [ 0.,  0.,  0.,  0.,  0.,  0.]])"
      ]
     },
     "execution_count": 337,
     "metadata": {},
     "output_type": "execute_result"
    }
   ],
   "source": [
    "mymap=np.zeros((6,6))\n",
    "mymap[0:4,2]=np.nan\n",
    "mymap"
   ]
  },
  {
   "cell_type": "code",
   "execution_count": 338,
   "metadata": {},
   "outputs": [],
   "source": [
    "def genh(blocks):\n",
    "    def h(start, goal):\n",
    "        if np.isnan(blocks[goal[0],goal[1]]):\n",
    "            return np.inf\n",
    "        return np.sqrt(np.sum((np.array(start)-np.array(goal))**2))\n",
    "    return h\n",
    "def neighbors(pos):\n",
    "    r = set()\n",
    "    for x in range(-1,2):\n",
    "        for y in range(-1,2):\n",
    "            r.add((pos[0]+x,pos[1]+y))\n",
    "    return [(x,y) for (x,y) in r if (x,y)!=pos and x>=0 and y>=0]"
   ]
  },
  {
   "cell_type": "code",
   "execution_count": 339,
   "metadata": {},
   "outputs": [
    {
     "data": {
      "text/plain": [
       "1.0"
      ]
     },
     "execution_count": 339,
     "metadata": {},
     "output_type": "execute_result"
    }
   ],
   "source": [
    "h1 = genh(mymap)\n",
    "h1((1,0),(1,1))"
   ]
  },
  {
   "cell_type": "code",
   "execution_count": 340,
   "metadata": {},
   "outputs": [
    {
     "data": {
      "text/plain": [
       "[(1, 1), (2, 1), (3, 1), (4, 2), (3, 3)]"
      ]
     },
     "execution_count": 340,
     "metadata": {},
     "output_type": "execute_result"
    }
   ],
   "source": [
    "a_star((1,1), (3,3), genh(mymap), neighbors)"
   ]
  },
  {
   "cell_type": "code",
   "execution_count": 242,
   "metadata": {},
   "outputs": [
    {
     "data": {
      "text/plain": [
       "[(0, 1), (1, 2), (0, 0), (2, 1), (2, 0), (2, 2), (1, 0), (0, 2)]"
      ]
     },
     "execution_count": 242,
     "metadata": {},
     "output_type": "execute_result"
    }
   ],
   "source": [
    "neighbors((1,1))"
   ]
  },
  {
   "cell_type": "code",
   "execution_count": 230,
   "metadata": {},
   "outputs": [
    {
     "ename": "AttributeError",
     "evalue": "'numpy.ndarray' object has no attribute 'cross'",
     "output_type": "error",
     "traceback": [
      "\u001b[0;31m---------------------------------------------------------------------------\u001b[0m",
      "\u001b[0;31mAttributeError\u001b[0m                            Traceback (most recent call last)",
      "\u001b[0;32m<ipython-input-230-657602e072e8>\u001b[0m in \u001b[0;36m<module>\u001b[0;34m()\u001b[0m\n\u001b[0;32m----> 1\u001b[0;31m \u001b[0ma\u001b[0m\u001b[0;34m.\u001b[0m\u001b[0mcross\u001b[0m\u001b[0;34m(\u001b[0m\u001b[0mnp\u001b[0m\u001b[0;34m.\u001b[0m\u001b[0marray\u001b[0m\u001b[0;34m(\u001b[0m\u001b[0;34m[\u001b[0m\u001b[0;34m[\u001b[0m\u001b[0;36m1\u001b[0m\u001b[0;34m,\u001b[0m\u001b[0;36m2\u001b[0m\u001b[0;34m]\u001b[0m\u001b[0;34m,\u001b[0m\u001b[0;34m[\u001b[0m\u001b[0;36m10\u001b[0m\u001b[0;34m,\u001b[0m\u001b[0;36m30\u001b[0m\u001b[0;34m]\u001b[0m\u001b[0;34m]\u001b[0m\u001b[0;34m)\u001b[0m\u001b[0;34m.\u001b[0m\u001b[0mT\u001b[0m\u001b[0;34m)\u001b[0m\u001b[0;34m\u001b[0m\u001b[0m\n\u001b[0m",
      "\u001b[0;31mAttributeError\u001b[0m: 'numpy.ndarray' object has no attribute 'cross'"
     ]
    }
   ],
   "source": [
    "a.t(np.array([[1,2],[10,30]]).T)"
   ]
  },
  {
   "cell_type": "code",
   "execution_count": 282,
   "metadata": {},
   "outputs": [],
   "source": [
    "a = set()"
   ]
  },
  {
   "cell_type": "code",
   "execution_count": 283,
   "metadata": {},
   "outputs": [],
   "source": [
    "a.add((2,3))"
   ]
  },
  {
   "cell_type": "code",
   "execution_count": 284,
   "metadata": {},
   "outputs": [
    {
     "data": {
      "text/plain": [
       "{(2, 3)}"
      ]
     },
     "execution_count": 284,
     "metadata": {},
     "output_type": "execute_result"
    }
   ],
   "source": [
    "a"
   ]
  },
  {
   "cell_type": "code",
   "execution_count": 285,
   "metadata": {},
   "outputs": [],
   "source": [
    "a.add((2,1))"
   ]
  },
  {
   "cell_type": "code",
   "execution_count": 286,
   "metadata": {},
   "outputs": [
    {
     "data": {
      "text/plain": [
       "{(2, 1), (2, 3)}"
      ]
     },
     "execution_count": 286,
     "metadata": {},
     "output_type": "execute_result"
    }
   ],
   "source": [
    "a"
   ]
  },
  {
   "cell_type": "code",
   "execution_count": 307,
   "metadata": {},
   "outputs": [],
   "source": [
    "f = collections.defaultdict(lambda:np.inf)"
   ]
  },
  {
   "cell_type": "code",
   "execution_count": 308,
   "metadata": {},
   "outputs": [
    {
     "data": {
      "text/plain": [
       "dict_keys([])"
      ]
     },
     "execution_count": 308,
     "metadata": {},
     "output_type": "execute_result"
    }
   ],
   "source": [
    "f.keys()"
   ]
  },
  {
   "cell_type": "code",
   "execution_count": 311,
   "metadata": {},
   "outputs": [],
   "source": [
    "cur = min(f.keys(), key=lambda x: f[x])"
   ]
  },
  {
   "cell_type": "code",
   "execution_count": 310,
   "metadata": {},
   "outputs": [],
   "source": [
    "f[(1,1)]=3"
   ]
  },
  {
   "cell_type": "code",
   "execution_count": 344,
   "metadata": {},
   "outputs": [
    {
     "data": {
      "text/plain": [
       "-1"
      ]
     },
     "execution_count": 344,
     "metadata": {},
     "output_type": "execute_result"
    }
   ],
   "source": [
    "np.positive(-1)"
   ]
  },
  {
   "cell_type": "code",
   "execution_count": 350,
   "metadata": {},
   "outputs": [
    {
     "data": {
      "text/plain": [
       "0.7853981633974483"
      ]
     },
     "execution_count": 350,
     "metadata": {},
     "output_type": "execute_result"
    }
   ],
   "source": [
    "rot = np.arctan2(10,10)\n",
    "rot = (rot+np.pi)%(2*np.pi)-np.pi\n",
    "rot"
   ]
  },
  {
   "cell_type": "code",
   "execution_count": 352,
   "metadata": {},
   "outputs": [
    {
     "data": {
      "text/plain": [
       "45.0"
      ]
     },
     "execution_count": 352,
     "metadata": {},
     "output_type": "execute_result"
    }
   ],
   "source": [
    "np.arctan2(10,10)*180/np.pi"
   ]
  },
  {
   "cell_type": "code",
   "execution_count": 355,
   "metadata": {},
   "outputs": [],
   "source": [
    "a = [1,2,3]"
   ]
  },
  {
   "cell_type": "code",
   "execution_count": 357,
   "metadata": {},
   "outputs": [
    {
     "data": {
      "text/plain": [
       "5.729577951308232"
      ]
     },
     "execution_count": 357,
     "metadata": {},
     "output_type": "execute_result"
    }
   ],
   "source": [
    "0.1*180/np.pi"
   ]
  },
  {
   "cell_type": "code",
   "execution_count": 2,
   "metadata": {},
   "outputs": [],
   "source": [
    "import time"
   ]
  },
  {
   "cell_type": "code",
   "execution_count": 7,
   "metadata": {},
   "outputs": [],
   "source": [
    "import datetime"
   ]
  },
  {
   "cell_type": "code",
   "execution_count": 14,
   "metadata": {},
   "outputs": [
    {
     "data": {
      "text/plain": [
       "'worldmap-20181111-1816.png'"
      ]
     },
     "execution_count": 14,
     "metadata": {},
     "output_type": "execute_result"
    }
   ],
   "source": [
    "datetime.datetime.now().strftime(\"worldmap-%Y%m%d-%H%M.png\")"
   ]
  },
  {
   "cell_type": "code",
   "execution_count": 15,
   "metadata": {},
   "outputs": [
    {
     "name": "stdout",
     "output_type": "stream",
     "text": [
      "1.sh\t\t  LaserScanDev.ipynb  mapa.ipynb   reem\r\n",
      "2.sh\t\t  LaserScan.ipynb     move.py\t   savemap.sh\r\n",
      "3.sh\t\t  laserscan.txt       my_map.pgm   Screenshot.png\r\n",
      "amcl_with_map.sh  map2.pgm\t      my_map.yaml  worldmap-20181111-2017.png\r\n",
      "key.sh\t\t  map2.yaml\t      ranges.txt   worldmap-20181111-2022.npy\r\n"
     ]
    }
   ],
   "source": [
    "!ls"
   ]
  },
  {
   "cell_type": "code",
   "execution_count": 2,
   "metadata": {},
   "outputs": [],
   "source": [
    "w = np.load('worldmap-20181111-2022.npy')"
   ]
  },
  {
   "cell_type": "code",
   "execution_count": 3,
   "metadata": {},
   "outputs": [
    {
     "ename": "ModuleNotFoundError",
     "evalue": "No module named 'cv2'",
     "output_type": "error",
     "traceback": [
      "\u001b[0;31m---------------------------------------------------------------------------\u001b[0m",
      "\u001b[0;31mModuleNotFoundError\u001b[0m                       Traceback (most recent call last)",
      "\u001b[0;32m<ipython-input-3-c8ec22b3e787>\u001b[0m in \u001b[0;36m<module>\u001b[0;34m()\u001b[0m\n\u001b[0;32m----> 1\u001b[0;31m \u001b[0;32mimport\u001b[0m \u001b[0mcv2\u001b[0m\u001b[0;34m\u001b[0m\u001b[0m\n\u001b[0m",
      "\u001b[0;31mModuleNotFoundError\u001b[0m: No module named 'cv2'"
     ]
    }
   ],
   "source": [
    "import cv2"
   ]
  },
  {
   "cell_type": "code",
   "execution_count": null,
   "metadata": {},
   "outputs": [],
   "source": []
  }
 ],
 "metadata": {
  "kernelspec": {
   "display_name": "Python 3",
   "language": "python",
   "name": "python3"
  },
  "language_info": {
   "codemirror_mode": {
    "name": "ipython",
    "version": 3
   },
   "file_extension": ".py",
   "mimetype": "text/x-python",
   "name": "python",
   "nbconvert_exporter": "python",
   "pygments_lexer": "ipython3",
   "version": "3.6.6"
  }
 },
 "nbformat": 4,
 "nbformat_minor": 2
}
