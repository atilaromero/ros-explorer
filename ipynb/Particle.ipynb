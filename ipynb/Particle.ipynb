{
 "cells": [
  {
   "cell_type": "code",
   "execution_count": 15,
   "metadata": {},
   "outputs": [
    {
     "data": {
      "text/plain": [
       "<module 'particle' from 'particle.pyc'>"
      ]
     },
     "execution_count": 15,
     "metadata": {},
     "output_type": "execute_result"
    }
   ],
   "source": [
    "import numpy as np\n",
    "import matplotlib.pyplot as plt\n",
    "import scipy.stats\n",
    "import particle\n",
    "reload(particle)"
   ]
  },
  {
   "cell_type": "code",
   "execution_count": 2,
   "metadata": {},
   "outputs": [
    {
     "data": {
      "text/plain": [
       "array([[10006.7568081 , 19977.81353196, 31016.12324031],\n",
       "       [ 9992.5712155 , 19942.81707636, 28403.71916297],\n",
       "       [10003.59006017, 19978.64007089, 28646.04999931],\n",
       "       [ 9999.40276685, 19794.13662028, 29203.46023995]])"
      ]
     },
     "execution_count": 2,
     "metadata": {},
     "output_type": "execute_result"
    }
   ],
   "source": [
    "particle.gaussian_particles(4, [10000,20000,30000], [10, 100, 1000])"
   ]
  },
  {
   "cell_type": "code",
   "execution_count": 4,
   "metadata": {},
   "outputs": [
    {
     "data": {
      "text/plain": [
       "array([[11.1404651 , 21.65959995, 38.46290311],\n",
       "       [10.5718178 , 20.57623356, 32.1617473 ],\n",
       "       [11.33104481, 24.54882496, 30.32787283],\n",
       "       [10.05877852, 23.50057146, 31.65161237]])"
      ]
     },
     "execution_count": 4,
     "metadata": {},
     "output_type": "execute_result"
    }
   ],
   "source": [
    "p1 = particle.uniform_particles(4, [10,20,30], [12, 25, 39])\n",
    "p1"
   ]
  },
  {
   "cell_type": "code",
   "execution_count": 5,
   "metadata": {},
   "outputs": [
    {
     "data": {
      "text/plain": [
       "array([[  21.22931888,  120.50792908, 1039.03251238],\n",
       "       [  20.17206788,  119.53231437, 1033.05248633],\n",
       "       [  20.94344985,  124.56174148, 1031.15186178],\n",
       "       [  19.60816579,  124.87357505, 1031.33040887]])"
      ]
     },
     "execution_count": 5,
     "metadata": {},
     "output_type": "execute_result"
    }
   ],
   "source": [
    "particle.predict(p1, [10,100, 1000], [1,1,1])"
   ]
  },
  {
   "cell_type": "code",
   "execution_count": 6,
   "metadata": {},
   "outputs": [
    {
     "name": "stdout",
     "output_type": "stream",
     "text": [
      "('prior', array([0.00981855, 0.03981617, 0.00258814, 0.03981617]))\n"
     ]
    },
    {
     "data": {
      "text/plain": [
       "(array([0.10667808, 0.43260094, 0.02812004, 0.43260094]), 1.0)"
      ]
     },
     "execution_count": 6,
     "metadata": {},
     "output_type": "execute_result"
    }
   ],
   "source": [
    "reload(particle)\n",
    "\n",
    "a = np.array([\n",
    "    [1,0,0],\n",
    "    [1,2,3],\n",
    "    [2,3,4],\n",
    "    [1,1,1]])\n",
    "x = particle.updateWeights(lambda x: 1, a)\n",
    "x, np.sum(x)"
   ]
  },
  {
   "cell_type": "code",
   "execution_count": 7,
   "metadata": {},
   "outputs": [
    {
     "data": {
      "text/plain": [
       "array([0.74387766, 0.78666531, 0.76479616, 0.394952  , 0.52208571,\n",
       "       0.78670144, 0.2607172 , 0.49723775, 0.23722488, 0.97114291])"
      ]
     },
     "execution_count": 7,
     "metadata": {},
     "output_type": "execute_result"
    }
   ],
   "source": [
    "np.random.random(10)"
   ]
  },
  {
   "cell_type": "code",
   "execution_count": 8,
   "metadata": {},
   "outputs": [
    {
     "data": {
      "text/plain": [
       "array([ 0,  6, 24,  1])"
      ]
     },
     "execution_count": 8,
     "metadata": {},
     "output_type": "execute_result"
    }
   ],
   "source": [
    "np.prod(a, axis=1)"
   ]
  },
  {
   "cell_type": "code",
   "execution_count": 11,
   "metadata": {},
   "outputs": [
    {
     "data": {
      "text/plain": [
       "(array([5.75362716, 4.59247226, 1.63406689]),\n",
       " array([2.73047601, 3.02512765, 0.92948722]))"
      ]
     },
     "execution_count": 11,
     "metadata": {},
     "output_type": "execute_result"
    }
   ],
   "source": [
    "p2 = particle.uniform_particles(N=20, low=[0,0,0], high=[10,10,np.pi])\n",
    "mean, std = particle.estimate(p2,[1.0]*20)\n",
    "mean, std"
   ]
  },
  {
   "cell_type": "code",
   "execution_count": 12,
   "metadata": {},
   "outputs": [
    {
     "data": {
      "text/plain": [
       "array([0., 0., 0.])"
      ]
     },
     "execution_count": 12,
     "metadata": {},
     "output_type": "execute_result"
    }
   ],
   "source": [
    "p2[0] = mean\n",
    "((p2 - mean)/std)[0]"
   ]
  },
  {
   "cell_type": "code",
   "execution_count": 13,
   "metadata": {},
   "outputs": [
    {
     "data": {
      "text/plain": [
       "array([8.6602576 , 7.94560056, 2.71414019])"
      ]
     },
     "execution_count": 13,
     "metadata": {},
     "output_type": "execute_result"
    }
   ],
   "source": [
    "p2[8]"
   ]
  },
  {
   "cell_type": "code",
   "execution_count": 16,
   "metadata": {},
   "outputs": [],
   "source": [
    "particles = p2\n",
    "zscore = (particles - mean)/std\n",
    "prior = scipy.stats.norm.pdf(zscore)"
   ]
  },
  {
   "cell_type": "code",
   "execution_count": 17,
   "metadata": {},
   "outputs": [
    {
     "data": {
      "text/plain": [
       "array([[0.39894228, 0.39894228, 0.39894228],\n",
       "       [0.36491902, 0.39892106, 0.19461102],\n",
       "       [0.13930863, 0.1167183 , 0.23322476],\n",
       "       [0.34891481, 0.18820602, 0.24291522],\n",
       "       [0.38789434, 0.22686064, 0.08608251],\n",
       "       [0.35359297, 0.21319238, 0.36024233],\n",
       "       [0.24142211, 0.32588334, 0.21172066],\n",
       "       [0.34233845, 0.1882699 , 0.31473841],\n",
       "       [0.22638148, 0.2158348 , 0.20309692],\n",
       "       [0.1446061 , 0.29681262, 0.35301692],\n",
       "       [0.3666031 , 0.39214439, 0.1898906 ],\n",
       "       [0.3989418 , 0.32671303, 0.26942963],\n",
       "       [0.26014404, 0.29780634, 0.1711496 ],\n",
       "       [0.16824658, 0.25653867, 0.24667386],\n",
       "       [0.35091879, 0.21848302, 0.3989224 ],\n",
       "       [0.06460988, 0.22272185, 0.2124241 ],\n",
       "       [0.39551327, 0.35574992, 0.30169213],\n",
       "       [0.23747276, 0.20855794, 0.13491065],\n",
       "       [0.17417917, 0.15222418, 0.36610624],\n",
       "       [0.07692224, 0.39138474, 0.26724866]])"
      ]
     },
     "execution_count": 17,
     "metadata": {},
     "output_type": "execute_result"
    }
   ],
   "source": [
    "prior"
   ]
  },
  {
   "cell_type": "code",
   "execution_count": 386,
   "metadata": {},
   "outputs": [
    {
     "data": {
      "text/plain": [
       "[<matplotlib.lines.Line2D at 0x7f94cd988650>]"
      ]
     },
     "execution_count": 386,
     "metadata": {},
     "output_type": "execute_result"
    },
    {
     "data": {
      "image/png": "[encoded data removed]",
      "text/plain": [
       "<Figure size 432x288 with 1 Axes>"
      ]
     },
     "metadata": {
      "needs_background": "light"
     },
     "output_type": "display_data"
    }
   ],
   "source": [
    "p1 = particle.uniform_particles(1000, [-10,-10], [10,10])\n",
    "plt.plot(p1[:,0],p1[:,1], '.')"
   ]
  },
  {
   "cell_type": "code",
   "execution_count": 387,
   "metadata": {},
   "outputs": [
    {
     "data": {
      "text/plain": [
       "<module 'particle' from 'particle.py'>"
      ]
     },
     "execution_count": 387,
     "metadata": {},
     "output_type": "execute_result"
    }
   ],
   "source": [
    "reload(particle)"
   ]
  },
  {
   "cell_type": "code",
   "execution_count": 388,
   "metadata": {},
   "outputs": [
    {
     "name": "stdout",
     "output_type": "stream",
     "text": [
      "((1000, 2), array([-0.23623487,  0.21003487]), array([5.85808809, 5.86481987]))\n"
     ]
    },
    {
     "data": {
      "text/plain": [
       "(1000,)"
      ]
     },
     "execution_count": 388,
     "metadata": {},
     "output_type": "execute_result"
    }
   ],
   "source": [
    "weights = particle.updateWeights(lambda x: 200-(x[:,0]**2 + x[:,1]**2), p1)\n",
    "weights.shape"
   ]
  },
  {
   "cell_type": "code",
   "execution_count": 403,
   "metadata": {},
   "outputs": [],
   "source": [
    "p2 = p1"
   ]
  },
  {
   "cell_type": "code",
   "execution_count": 409,
   "metadata": {},
   "outputs": [
    {
     "name": "stdout",
     "output_type": "stream",
     "text": [
      "((1000, 2), array([-6.56587064,  1.99044149]), array([0.49036428, 0.84557932]))\n"
     ]
    },
    {
     "data": {
      "text/plain": [
       "[<matplotlib.lines.Line2D at 0x7f94cd06f310>]"
      ]
     },
     "execution_count": 409,
     "metadata": {},
     "output_type": "execute_result"
    },
    {
     "data": {
      "image/png": "[encoded data removed]",
      "text/plain": [
       "<Figure size 432x288 with 1 Axes>"
      ]
     },
     "metadata": {
      "needs_background": "light"
     },
     "output_type": "display_data"
    }
   ],
   "source": [
    "p2 = particle.predict(p2, [0,0], 0.1)\n",
    "weights = particle.updateWeights(lambda x: -x[:,0], p2)\n",
    "p2 = particle.simple_resample(p2, weights)\n",
    "plt.plot(np.r_[p2[:,0],-10,10],np.r_[p2[:,1],-10,10], '.', )"
   ]
  },
  {
   "cell_type": "code",
   "execution_count": 385,
   "metadata": {},
   "outputs": [
    {
     "data": {
      "text/plain": [
       "array([-3, -3, -3, -3, -3])"
      ]
     },
     "execution_count": 385,
     "metadata": {},
     "output_type": "execute_result"
    }
   ],
   "source": [
    "particle.simple_resample(np.array([10,-2,-3,-4,5]),[1,2,50,2,1])"
   ]
  },
  {
   "cell_type": "code",
   "execution_count": null,
   "metadata": {},
   "outputs": [],
   "source": []
  }
 ],
 "metadata": {
  "kernelspec": {
   "display_name": "Python 2",
   "language": "python",
   "name": "python2"
  },
  "language_info": {
   "codemirror_mode": {
    "name": "ipython",
    "version": 2
   },
   "file_extension": ".py",
   "mimetype": "text/x-python",
   "name": "python",
   "nbconvert_exporter": "python",
   "pygments_lexer": "ipython2",
   "version": "2.7.15"
  }
 },
 "nbformat": 4,
 "nbformat_minor": 2
}
